{
 "cells": [
  {
   "cell_type": "code",
   "execution_count": 29,
   "id": "ca045d61",
   "metadata": {},
   "outputs": [],
   "source": [
    "import pandas as pd\n",
    "import numpy as np\n",
    "import matplotlib.pyplot as plt\n",
    "import seaborn as sns\n",
    "from datetime import datetime"
   ]
  },
  {
   "cell_type": "code",
   "execution_count": 30,
   "id": "0dc08dfd",
   "metadata": {},
   "outputs": [
    {
     "name": "stdout",
     "output_type": "stream",
     "text": [
      "<class 'pandas.core.frame.DataFrame'>\n",
      "RangeIndex: 913 entries, 0 to 912\n",
      "Data columns (total 10 columns):\n",
      " #   Column                         Non-Null Count  Dtype \n",
      "---  ------                         --------------  ----- \n",
      " 0   Sensor_ID                      913 non-null    object\n",
      " 1   Date                           909 non-null    object\n",
      " 2   Soil_Moisture(%)               913 non-null    object\n",
      " 3   Soil_pH                        913 non-null    object\n",
      " 4   Temperature(C)                 913 non-null    object\n",
      " 5   Humidity(%)                    913 non-null    object\n",
      " 6   Crop_Type                      909 non-null    object\n",
      " 7   Fertilizer_Recommended(kg/ha)  913 non-null    object\n",
      " 8   Irrigation_Recommended(mm)     913 non-null    object\n",
      " 9   Drone_Image_ID                 913 non-null    object\n",
      "dtypes: object(10)\n",
      "memory usage: 71.5+ KB\n"
     ]
    }
   ],
   "source": [
    "df = pd.read_csv('climate_action_data.csv')\n",
    "\n",
    "#identifying the structure of data\n",
    "df.info()"
   ]
  },
  {
   "cell_type": "code",
   "execution_count": 31,
   "id": "f7697ffc",
   "metadata": {},
   "outputs": [
    {
     "name": "stdout",
     "output_type": "stream",
     "text": [
      "Sensor_ID                        object\n",
      "Date                             object\n",
      "Soil_Moisture(%)                 object\n",
      "Soil_pH                          object\n",
      "Temperature(C)                   object\n",
      "Humidity(%)                      object\n",
      "Crop_Type                        object\n",
      "Fertilizer_Recommended(kg/ha)    object\n",
      "Irrigation_Recommended(mm)       object\n",
      "Drone_Image_ID                   object\n",
      "dtype: object\n"
     ]
    }
   ],
   "source": [
    "#identifying the data types of each data\n",
    "print(df.dtypes)"
   ]
  },
  {
   "cell_type": "code",
   "execution_count": 32,
   "id": "ad7932b6",
   "metadata": {},
   "outputs": [
    {
     "name": "stdout",
     "output_type": "stream",
     "text": [
      "missing values in each column\n"
     ]
    },
    {
     "data": {
      "text/plain": [
       "Sensor_ID                        0\n",
       "Date                             4\n",
       "Soil_Moisture(%)                 0\n",
       "Soil_pH                          0\n",
       "Temperature(C)                   0\n",
       "Humidity(%)                      0\n",
       "Crop_Type                        4\n",
       "Fertilizer_Recommended(kg/ha)    0\n",
       "Irrigation_Recommended(mm)       0\n",
       "Drone_Image_ID                   0\n",
       "dtype: int64"
      ]
     },
     "execution_count": 32,
     "metadata": {},
     "output_type": "execute_result"
    }
   ],
   "source": [
    "#idenfying missing values\n",
    "print(\"missing values in each column\")\n",
    "df.isnull().sum()"
   ]
  },
  {
   "cell_type": "code",
   "execution_count": 33,
   "id": "b87276e7",
   "metadata": {},
   "outputs": [
    {
     "name": "stdout",
     "output_type": "stream",
     "text": [
      "Missing values after handling:\n",
      "Sensor_ID                        0\n",
      "Date                             0\n",
      "Soil_Moisture(%)                 0\n",
      "Soil_pH                          0\n",
      "Temperature(C)                   0\n",
      "Humidity(%)                      0\n",
      "Crop_Type                        0\n",
      "Fertilizer_Recommended(kg/ha)    0\n",
      "Irrigation_Recommended(mm)       0\n",
      "Drone_Image_ID                   0\n",
      "dtype: int64\n"
     ]
    }
   ],
   "source": [
    "#Handling missing values\n",
    "# Define numeric columns\n",
    "numeric_cols = [\n",
    "    'Soil_Moisture(%)',\n",
    "    'Soil_pH',\n",
    "    'Temperature(C)',\n",
    "    'Humidity(%)',\n",
    "    'Fertilizer_Recommended(kg/ha)',\n",
    "    'Irrigation_Recommended(mm)'\n",
    "]\n",
    "\n",
    "# Convert numeric columns to float and handle missing values\n",
    "for col in numeric_cols:\n",
    "    if col in df.columns:\n",
    "        df[col] = pd.to_numeric(df[col], errors='coerce')  # convert to numeric, coerce errors to NaN\n",
    "        df[col] = df[col].fillna(df[col].median())         # fill NaN with column median\n",
    "\n",
    "# Define categorical columns\n",
    "categorical_cols = ['Crop_Type']\n",
    "\n",
    "# Fill missing categorical values with mode\n",
    "for col in categorical_cols:\n",
    "    if col in df.columns:\n",
    "        df[col] = df[col].fillna(df[col].mode()[0])\n",
    "\n",
    "# Handle missing 'Date' by dropping rows (if required)\n",
    "if 'Date' in df.columns:\n",
    "    df = df.dropna(subset=['Date'])\n",
    "\n",
    "# Check for any remaining missing values\n",
    "print(\"Missing values after handling:\")\n",
    "print(df.isnull().sum())\n"
   ]
  },
  {
   "cell_type": "code",
   "execution_count": 34,
   "id": "42cb54e9",
   "metadata": {},
   "outputs": [
    {
     "name": "stdout",
     "output_type": "stream",
     "text": [
      "Number of duplicate rows: 111\n"
     ]
    }
   ],
   "source": [
    "# Check for duplicates\n",
    "print(\"Number of duplicate rows:\", df.duplicated().sum())\n"
   ]
  },
  {
   "cell_type": "code",
   "execution_count": 35,
   "id": "5f816d23",
   "metadata": {},
   "outputs": [
    {
     "name": "stdout",
     "output_type": "stream",
     "text": [
      "Number of rows after removing duplicates: 798\n",
      "Number of duplicate dates: 0\n"
     ]
    },
    {
     "data": {
      "text/plain": [
       "(798, 10)"
      ]
     },
     "execution_count": 35,
     "metadata": {},
     "output_type": "execute_result"
    }
   ],
   "source": [
    "# Remove duplicates\n",
    "df = df.drop_duplicates()\n",
    "print(\"Number of rows after removing duplicates:\", df.shape[0])\n",
    "# Check for duplicates dates\n",
    "print(\"Number of duplicate dates:\", df['Date'].duplicated().sum())\n",
    "# Remove duplicate dates\n",
    "df = df.drop_duplicates(subset=['Date'], keep='first')\n",
    "\n",
    "# Shape\n",
    "df.shape"
   ]
  },
  {
   "cell_type": "code",
   "execution_count": 36,
   "id": "b8e8e56d",
   "metadata": {},
   "outputs": [
    {
     "name": "stdout",
     "output_type": "stream",
     "text": [
      "Original DataFrame:\n",
      "    Sensor_ID        Date  Soil_Moisture(%)  Soil_pH  Temperature(C)  \\\n",
      "0    SEN-1000  2025-01-01             36.22     6.98            21.3   \n",
      "1    SEN-1001  2025-01-02             76.55     5.03            23.5   \n",
      "2    SEN-1002  2025-01-03             61.24     6.52            21.9   \n",
      "3    SEN-1003  2025-01-04             51.91     6.62            24.0   \n",
      "4    SEN-1004  2025-01-05             20.92     5.98            19.2   \n",
      "..        ...         ...               ...      ...             ...   \n",
      "796  SEN-1796  2027-03-08             75.25     5.46            20.6   \n",
      "797  SEN-1797  2027-03-09             49.56     4.78            18.4   \n",
      "798  SEN-1798  2027-03-10             58.77     4.80            29.0   \n",
      "799  SEN-1799  2027-03-11             74.57     7.63            28.8   \n",
      "863  SEN-1449  2026-03-26             15.85     6.66            19.4   \n",
      "\n",
      "     Humidity(%) Crop_Type  Fertilizer_Recommended(kg/ha)  \\\n",
      "0           50.4  Tomatoes                           67.6   \n",
      "1           34.3     Wheat                          130.4   \n",
      "2           54.6  Tomatoes                           36.0   \n",
      "3           48.7     Maize                           85.8   \n",
      "4           70.6     Wheat                           75.6   \n",
      "..           ...       ...                            ...   \n",
      "796         86.5     Beans                          133.5   \n",
      "797         82.6  Tomatoes                           58.0   \n",
      "798         36.2  Tomatoes                          113.4   \n",
      "799         53.6     Maize                          105.6   \n",
      "863         51.5  Tomatoes                           72.2   \n",
      "\n",
      "     Irrigation_Recommended(mm) Drone_Image_ID  \n",
      "0                          26.6       IMG-2000  \n",
      "1                           8.3       IMG-2001  \n",
      "2                          29.4       IMG-2002  \n",
      "3                          19.6       IMG-2003  \n",
      "4                          29.9       IMG-2004  \n",
      "..                          ...            ...  \n",
      "796                        16.1       IMG-2796  \n",
      "797                         8.4       IMG-2797  \n",
      "798                        26.6       IMG-2798  \n",
      "799                        25.4       IMG-2799  \n",
      "863                        23.8       IMG-2449  \n",
      "\n",
      "[798 rows x 10 columns]\n",
      "\n",
      "Data types before cleaning:\n",
      "Sensor_ID                         object\n",
      "Date                              object\n",
      "Soil_Moisture(%)                 float64\n",
      "Soil_pH                          float64\n",
      "Temperature(C)                   float64\n",
      "Humidity(%)                      float64\n",
      "Crop_Type                         object\n",
      "Fertilizer_Recommended(kg/ha)    float64\n",
      "Irrigation_Recommended(mm)       float64\n",
      "Drone_Image_ID                    object\n",
      "dtype: object\n"
     ]
    },
    {
     "name": "stdout",
     "output_type": "stream",
     "text": [
      "\n",
      "Cleaned DataFrame:\n",
      "     Sensor_ID  Date  Soil_Moisture(%)  Soil_pH  Temperature(C)  Humidity(%)  \\\n",
      "0          NaN   NaN             36.22     6.98            21.3         50.4   \n",
      "1          NaN   NaN             76.55     5.03            23.5         34.3   \n",
      "2          NaN   NaN             61.24     6.52            21.9         54.6   \n",
      "3          NaN   NaN             51.91     6.62            24.0         48.7   \n",
      "4          NaN   NaN             20.92     5.98            19.2         70.6   \n",
      "..         ...   ...               ...      ...             ...          ...   \n",
      "796        NaN   NaN             75.25     5.46            20.6         86.5   \n",
      "797        NaN   NaN             49.56     4.78            18.4         82.6   \n",
      "798        NaN   NaN             58.77     4.80            29.0         36.2   \n",
      "799        NaN   NaN             74.57     7.63            28.8         53.6   \n",
      "863        NaN   NaN             15.85     6.66            19.4         51.5   \n",
      "\n",
      "     Crop_Type  Fertilizer_Recommended(kg/ha)  Irrigation_Recommended(mm)  \\\n",
      "0          NaN                           67.6                        26.6   \n",
      "1          NaN                          130.4                         8.3   \n",
      "2          NaN                           36.0                        29.4   \n",
      "3          NaN                           85.8                        19.6   \n",
      "4          NaN                           75.6                        29.9   \n",
      "..         ...                            ...                         ...   \n",
      "796        NaN                          133.5                        16.1   \n",
      "797        NaN                           58.0                         8.4   \n",
      "798        NaN                          113.4                        26.6   \n",
      "799        NaN                          105.6                        25.4   \n",
      "863        NaN                           72.2                        23.8   \n",
      "\n",
      "     Drone_Image_ID  \n",
      "0               NaN  \n",
      "1               NaN  \n",
      "2               NaN  \n",
      "3               NaN  \n",
      "4               NaN  \n",
      "..              ...  \n",
      "796             NaN  \n",
      "797             NaN  \n",
      "798             NaN  \n",
      "799             NaN  \n",
      "863             NaN  \n",
      "\n",
      "[798 rows x 10 columns]\n",
      "\n",
      "Data types after cleaning:\n",
      "Sensor_ID                        float64\n",
      "Date                             float64\n",
      "Soil_Moisture(%)                 float64\n",
      "Soil_pH                          float64\n",
      "Temperature(C)                   float64\n",
      "Humidity(%)                      float64\n",
      "Crop_Type                        float64\n",
      "Fertilizer_Recommended(kg/ha)    float64\n",
      "Irrigation_Recommended(mm)       float64\n",
      "Drone_Image_ID                   float64\n",
      "dtype: object\n",
      "\n",
      "NaN counts per column:\n",
      "Sensor_ID                        798\n",
      "Date                             798\n",
      "Soil_Moisture(%)                   0\n",
      "Soil_pH                            0\n",
      "Temperature(C)                     0\n",
      "Humidity(%)                        0\n",
      "Crop_Type                        798\n",
      "Fertilizer_Recommended(kg/ha)      0\n",
      "Irrigation_Recommended(mm)         0\n",
      "Drone_Image_ID                   798\n",
      "dtype: int64\n",
      "\n",
      "Valid (non-NaN) numeric counts per column:\n",
      "Sensor_ID                          0\n",
      "Date                               0\n",
      "Soil_Moisture(%)                 798\n",
      "Soil_pH                          798\n",
      "Temperature(C)                   798\n",
      "Humidity(%)                      798\n",
      "Crop_Type                          0\n",
      "Fertilizer_Recommended(kg/ha)    798\n",
      "Irrigation_Recommended(mm)       798\n",
      "Drone_Image_ID                     0\n",
      "dtype: int64\n"
     ]
    }
   ],
   "source": [
    "print(\"Original DataFrame:\")\n",
    "print(df)\n",
    "print(\"\\nData types before cleaning:\")\n",
    "print(df.dtypes)\n",
    "\n",
    "# Step 1: Replace error values with NaN\n",
    "df = df.replace(['error'], np.nan)\n",
    "\n",
    "# Step 2: Convert columns to numeric where possible\n",
    "for col in df.columns:\n",
    "    df[col] = pd.to_numeric(df[col], errors='coerce')\n",
    "\n",
    "print(\"\\nCleaned DataFrame:\")\n",
    "print(df)\n",
    "\n",
    "print(\"\\nData types after cleaning:\")\n",
    "print(df.dtypes)\n",
    "\n",
    "# Step 3: Check number of NaNs and valid values in each column\n",
    "print(\"\\nNaN counts per column:\")\n",
    "print(df.isna().sum())\n",
    "\n",
    "print(\"\\nValid (non-NaN) numeric counts per column:\")\n",
    "print(df.notna().sum())"
   ]
  }
 ],
 "metadata": {
  "kernelspec": {
   "display_name": "base",
   "language": "python",
   "name": "python3"
  },
  "language_info": {
   "codemirror_mode": {
    "name": "ipython",
    "version": 3
   },
   "file_extension": ".py",
   "mimetype": "text/x-python",
   "name": "python",
   "nbconvert_exporter": "python",
   "pygments_lexer": "ipython3",
   "version": "3.12.7"
  }
 },
 "nbformat": 4,
 "nbformat_minor": 5
}
